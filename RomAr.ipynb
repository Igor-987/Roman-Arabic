{
 "cells": [
  {
   "cell_type": "code",
   "execution_count": 37,
   "metadata": {},
   "outputs": [
    {
     "name": "stdout",
     "output_type": "stream",
     "text": [
      "Введи римское число (I V X L C D M)  CMXCIV\n",
      "994\n"
     ]
    }
   ],
   "source": [
    "\n",
    "st=input('Введи римское число (I V X L C D M) ')\n",
    "ar={'I' : 1,\n",
    "    'V' : 5,\n",
    "    'X' : 10,\n",
    "    'L' : 50,\n",
    "    'C' : 100,\n",
    "    'D' : 500,\n",
    "    'M' : 1000}\n",
    "res=0\n",
    "y=0\n",
    "for i in st:\n",
    "    x=int(ar[i])\n",
    "    if x>y:\n",
    "        res=res-y-y\n",
    "    res+=x\n",
    "    y=x\n",
    "print(res)\n",
    "    "
   ]
  }
 ],
 "metadata": {
  "kernelspec": {
   "display_name": "Python 3",
   "language": "python",
   "name": "python3"
  },
  "language_info": {
   "codemirror_mode": {
    "name": "ipython",
    "version": 3
   },
   "file_extension": ".py",
   "mimetype": "text/x-python",
   "name": "python",
   "nbconvert_exporter": "python",
   "pygments_lexer": "ipython3",
   "version": "3.8.5"
  }
 },
 "nbformat": 4,
 "nbformat_minor": 4
}
